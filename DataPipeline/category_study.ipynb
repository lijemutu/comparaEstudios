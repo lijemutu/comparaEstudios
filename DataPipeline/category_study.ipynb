{
 "metadata": {
  "language_info": {
   "codemirror_mode": {
    "name": "ipython",
    "version": 3
   },
   "file_extension": ".py",
   "mimetype": "text/x-python",
   "name": "python",
   "nbconvert_exporter": "python",
   "pygments_lexer": "ipython3",
   "version": "3.8.3"
  },
  "orig_nbformat": 2,
  "kernelspec": {
   "name": "python383jvsc74a57bd0879d193fec41838907740fe3ad07584a850324c41feaf3fc33a5dbc5ecf9d73b",
   "display_name": "Python 3.8.3 64-bit"
  },
  "metadata": {
   "interpreter": {
    "hash": "879d193fec41838907740fe3ad07584a850324c41feaf3fc33a5dbc5ecf9d73b"
   }
  }
 },
 "nbformat": 4,
 "nbformat_minor": 2,
 "cells": [
  {
   "cell_type": "code",
   "execution_count": 5,
   "metadata": {},
   "outputs": [
    {
     "output_type": "stream",
     "name": "stdout",
     "text": [
      "['analisis-clinicos' 'audiometria' 'densitometria' 'electrocardiograma'\n 'electroencefalograma' 'espirometria' 'mastografia' 'rayos-x'\n 'tomografia' 'ultrasonido']\n"
     ]
    }
   ],
   "source": [
    "import pandas as pd\n",
    "import json\n",
    "\n",
    "with open(\"../data_Monar.json\",\"r\",encoding='utf-8') as monar:\n",
    "    monarData = json.load(monar)\n",
    "    df = pd.json_normalize(monarData)\n",
    "    print(df.Category.unique())"
   ]
  },
  {
   "cell_type": "code",
   "execution_count": 6,
   "metadata": {},
   "outputs": [
    {
     "output_type": "stream",
     "name": "stdout",
     "text": [
      "['analisis-clinicos' 'audiometria' 'cardiologia' 'check-ups-y-perfiles'\n 'colposcopia' 'densitometria' 'endoscopia' 'especialidades-medicas'\n 'espirometria' 'gammagrama' 'mastografia' 'neurofisiologia'\n 'pruebas-covid-19' 'radiologia-contrastada' 'rayos-x'\n 'resonancia-magnetica' 'servicios-medicos' 'tomografia' 'ultrasonido']\n"
     ]
    }
   ],
   "source": [
    "with open(\"../data_LMP.json\",\"r\",encoding='utf-8') as monar:\n",
    "    monarData = json.load(monar)\n",
    "    df = pd.json_normalize(monarData)\n",
    "    print(df.Category.unique())"
   ]
  },
  {
   "cell_type": "code",
   "execution_count": 7,
   "metadata": {},
   "outputs": [
    {
     "output_type": "stream",
     "name": "stdout",
     "text": [
      "['analisis-clinicos' 'mastografia' 'ultrasonido' 'rayos-x' 'tomografia'\n 'electrocardiograma' 'papanicolau' 'densitometria']\n"
     ]
    }
   ],
   "source": [
    "with open(\"../data_salud_digna.json\",\"r\",encoding='utf-8') as monar:\n",
    "    monarData = json.load(monar)\n",
    "    df = pd.json_normalize(monarData)\n",
    "    print(df.Category.unique())"
   ]
  },
  {
   "cell_type": "code",
   "execution_count": 8,
   "metadata": {},
   "outputs": [
    {
     "output_type": "stream",
     "name": "stdout",
     "text": [
      "['analisis-clinicos' 'rayos-x' 'estudios-especiales'\n 'resonancia-magnetica' 'tomografia' 'ultrasonido']\n"
     ]
    }
   ],
   "source": [
    "with open(\"../data_Olab.json\",\"r\",encoding='utf-8') as monar:\n",
    "    monarData = json.load(monar)\n",
    "    df = pd.json_normalize(monarData)\n",
    "    print(df.Category.unique())"
   ]
  },
  {
   "cell_type": "code",
   "execution_count": null,
   "metadata": {},
   "outputs": [],
   "source": []
  }
 ]
}